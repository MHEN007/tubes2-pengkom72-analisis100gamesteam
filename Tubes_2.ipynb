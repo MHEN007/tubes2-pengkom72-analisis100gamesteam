{
  "cells": [
    {
      "cell_type": "markdown",
      "metadata": {
        "id": "YM7KokJ0Vgk5"
      },
      "source": [
        "# TUGAS BESAR 2\n",
        "# Pengenalan Komputasi\n",
        "# KU1102-72\n",
        "\n",
        "Dosen: Rizal Dwi Prayogo, S.Si., M.Si., M.Sc.\n",
        "\n",
        "Anggota Kelompok:\n",
        "1. Matthew Mahendra / 16521497\n",
        "2. Henry Anand Septian Radityo / 16521507\n",
        "3. Richard Haris / 16521501\n",
        "4. Kenny Benaya Nathan / 16521527\n"
      ]
    },
    {
      "cell_type": "markdown",
      "metadata": {},
      "source": [
        "## Inisialisasi"
      ]
    },
    {
      "cell_type": "code",
      "execution_count": 2,
      "metadata": {
        "colab": {
          "base_uri": "https://localhost:8080/"
        },
        "id": "JbzyO5_oRBif",
        "outputId": "ec0e5ad8-10aa-4e31-f2c4-41f6ae242939"
      },
      "outputs": [],
      "source": [
        "import pandas as pd"
      ]
    },
    {
      "cell_type": "code",
      "execution_count": 3,
      "metadata": {},
      "outputs": [
        {
          "name": "stdout",
          "output_type": "stream",
          "text": [
            "    Steam id                              Game  Current players  \\\n",
            "0        730  Counter-Strike: Global Offensive           736875   \n",
            "1        570                            Dota 2           580933   \n",
            "2    1063730                         New World           243815   \n",
            "3    1172470                      Apex Legends           121313   \n",
            "4        440                   Team Fortress 2           104477   \n",
            "..       ...                               ...              ...   \n",
            "95   1286830     STAR WARS™: The Old Republic™             7104   \n",
            "96   1644960                          NBA 2K22             7020   \n",
            "97    244210                     Assetto Corsa             6965   \n",
            "98    275850                      No Man's Sky             6963   \n",
            "99   1238810                    Battlefield™ V             6724   \n",
            "\n",
            "    Peak players today Release date   Review summary  Total reviews  \\\n",
            "0               775266  21 Aug 2012    Very Positive      5993058.0   \n",
            "1               649690   9 Jul 2013    Very Positive      1599180.0   \n",
            "2               307146  28 Sep 2021  Mostly Positive       145931.0   \n",
            "3               245235   4 Nov 2020    Very Positive       338236.0   \n",
            "4               111884  10 Oct 2007    Very Positive       821568.0   \n",
            "..                 ...          ...              ...            ...   \n",
            "95                9345  21 Jul 2020    Very Positive        33098.0   \n",
            "96               13139   9 Sep 2021            Mixed         6266.0   \n",
            "97                8707  19 Dec 2014    Very Positive        42497.0   \n",
            "98               10122  12 Aug 2016  Mostly Positive       168792.0   \n",
            "99               33310  22 Oct 2020  Mostly Positive        68109.0   \n",
            "\n",
            "                                                 Tags  \n",
            "0   FPS:Shooter:Multiplayer:Competitive:Action:Tea...  \n",
            "1   Free to Play:MOBA:Multiplayer:Strategy:eSports...  \n",
            "2   Massively Multiplayer:Open World:MMORPG:Advent...  \n",
            "3   Free to Play:Battle Royale:Multiplayer:Shooter...  \n",
            "4   Free to Play:Hero Shooter:Multiplayer:FPS:Shoo...  \n",
            "..                                                ...  \n",
            "95  Free to Play:MMORPG:Character Customization:Mu...  \n",
            "96  Sports:Basketball:Simulation:eSports:Realistic...  \n",
            "97  Racing:Automobile Sim:Simulation:Driving:Reali...  \n",
            "98  Open World:Open World Survival Craft:Space:Exp...  \n",
            "99  FPS:World War II:Shooter:Multiplayer:War:Singl...  \n",
            "\n",
            "[100 rows x 8 columns]\n"
          ]
        }
      ],
      "source": [
        "df = pd.read_csv(\"steam_top_100.csv\") #Define dataframe as df\n",
        "print(df)"
      ]
    },
    {
      "cell_type": "markdown",
      "metadata": {
        "id": "bq9ZwujzbutH"
      },
      "source": [
        "## SAMPEL DATA"
      ]
    },
    {
      "cell_type": "code",
      "execution_count": 4,
      "metadata": {
        "colab": {
          "base_uri": "https://localhost:8080/"
        },
        "id": "iQ_V0V_HSPVL",
        "outputId": "d0572735-851d-44cf-f5ba-990e16553554"
      },
      "outputs": [
        {
          "data": {
            "text/plain": [
              "Index(['Steam id', 'Game', 'Current players', 'Peak players today',\n",
              "       'Release date', 'Review summary', 'Total reviews', 'Tags'],\n",
              "      dtype='object')"
            ]
          },
          "execution_count": 4,
          "metadata": {},
          "output_type": "execute_result"
        }
      ],
      "source": [
        "df.columns #jumlah kolom dan indexnya"
      ]
    },
    {
      "cell_type": "code",
      "execution_count": 5,
      "metadata": {
        "colab": {
          "base_uri": "https://localhost:8080/"
        },
        "id": "9e8HWrSqTVgb",
        "outputId": "a0ef48c6-5e23-42a2-e7c8-72a3c33bc4c9"
      },
      "outputs": [
        {
          "data": {
            "text/plain": [
              "100"
            ]
          },
          "execution_count": 5,
          "metadata": {},
          "output_type": "execute_result"
        }
      ],
      "source": [
        "len(df) #hitung jumlah barisnya"
      ]
    },
    {
      "cell_type": "code",
      "execution_count": 6,
      "metadata": {
        "colab": {
          "base_uri": "https://localhost:8080/",
          "height": 475
        },
        "id": "FWb71m4GT0sr",
        "outputId": "e5b8dcb1-a339-4e45-a83f-8b6f152a16ca"
      },
      "outputs": [
        {
          "data": {
            "text/html": [
              "<div>\n",
              "<style scoped>\n",
              "    .dataframe tbody tr th:only-of-type {\n",
              "        vertical-align: middle;\n",
              "    }\n",
              "\n",
              "    .dataframe tbody tr th {\n",
              "        vertical-align: top;\n",
              "    }\n",
              "\n",
              "    .dataframe thead th {\n",
              "        text-align: right;\n",
              "    }\n",
              "</style>\n",
              "<table border=\"1\" class=\"dataframe\">\n",
              "  <thead>\n",
              "    <tr style=\"text-align: right;\">\n",
              "      <th></th>\n",
              "      <th>Steam id</th>\n",
              "      <th>Game</th>\n",
              "      <th>Current players</th>\n",
              "      <th>Peak players today</th>\n",
              "      <th>Release date</th>\n",
              "      <th>Review summary</th>\n",
              "      <th>Total reviews</th>\n",
              "      <th>Tags</th>\n",
              "    </tr>\n",
              "  </thead>\n",
              "  <tbody>\n",
              "    <tr>\n",
              "      <th>53</th>\n",
              "      <td>251570</td>\n",
              "      <td>7 Days to Die</td>\n",
              "      <td>17023</td>\n",
              "      <td>23530</td>\n",
              "      <td>13 Dec 2013</td>\n",
              "      <td>Very Positive</td>\n",
              "      <td>130563.0</td>\n",
              "      <td>Early Access:Survival:Zombies:Voxel:Open World...</td>\n",
              "    </tr>\n",
              "    <tr>\n",
              "      <th>14</th>\n",
              "      <td>346110</td>\n",
              "      <td>ARK: Survival Evolved</td>\n",
              "      <td>45564</td>\n",
              "      <td>57966</td>\n",
              "      <td>27 Aug 2017</td>\n",
              "      <td>Very Positive</td>\n",
              "      <td>377192.0</td>\n",
              "      <td>Open World Survival Craft:Survival:Open World:...</td>\n",
              "    </tr>\n",
              "    <tr>\n",
              "      <th>57</th>\n",
              "      <td>813780</td>\n",
              "      <td>Age of Empires II: Definitive Edition</td>\n",
              "      <td>15041</td>\n",
              "      <td>20732</td>\n",
              "      <td>14 Nov 2019</td>\n",
              "      <td>Very Positive</td>\n",
              "      <td>80233.0</td>\n",
              "      <td>Strategy:RTS:City Builder:Multiplayer:Base Bui...</td>\n",
              "    </tr>\n",
              "    <tr>\n",
              "      <th>20</th>\n",
              "      <td>1466860</td>\n",
              "      <td>Age of Empires IV</td>\n",
              "      <td>37868</td>\n",
              "      <td>51869</td>\n",
              "      <td>28 Oct 2021</td>\n",
              "      <td>Very Positive</td>\n",
              "      <td>9709.0</td>\n",
              "      <td>Strategy:RTS:Multiplayer:Singleplayer:Medieval...</td>\n",
              "    </tr>\n",
              "    <tr>\n",
              "      <th>3</th>\n",
              "      <td>1172470</td>\n",
              "      <td>Apex Legends</td>\n",
              "      <td>121313</td>\n",
              "      <td>245235</td>\n",
              "      <td>4 Nov 2020</td>\n",
              "      <td>Very Positive</td>\n",
              "      <td>338236.0</td>\n",
              "      <td>Free to Play:Battle Royale:Multiplayer:Shooter...</td>\n",
              "    </tr>\n",
              "    <tr>\n",
              "      <th>...</th>\n",
              "      <td>...</td>\n",
              "      <td>...</td>\n",
              "      <td>...</td>\n",
              "      <td>...</td>\n",
              "      <td>...</td>\n",
              "      <td>...</td>\n",
              "      <td>...</td>\n",
              "      <td>...</td>\n",
              "    </tr>\n",
              "    <tr>\n",
              "      <th>25</th>\n",
              "      <td>444200</td>\n",
              "      <td>World of Tanks Blitz</td>\n",
              "      <td>31954</td>\n",
              "      <td>33709</td>\n",
              "      <td>9 Nov 2016</td>\n",
              "      <td>Very Positive</td>\n",
              "      <td>92260.0</td>\n",
              "      <td>Tanks:Free to Play:Action:Multiplayer:World Wa...</td>\n",
              "    </tr>\n",
              "    <tr>\n",
              "      <th>79</th>\n",
              "      <td>601510</td>\n",
              "      <td>Yu-Gi-Oh! Duel Links</td>\n",
              "      <td>9524</td>\n",
              "      <td>10690</td>\n",
              "      <td>16 Nov 2017</td>\n",
              "      <td>Very Positive</td>\n",
              "      <td>33948.0</td>\n",
              "      <td>Free to Play:Card Game:Strategy:Anime:Multipla...</td>\n",
              "    </tr>\n",
              "    <tr>\n",
              "      <th>78</th>\n",
              "      <td>1259970</td>\n",
              "      <td>eFootball PES 2021 SEASON UPDATE</td>\n",
              "      <td>9669</td>\n",
              "      <td>10094</td>\n",
              "      <td>15 Sep 2020</td>\n",
              "      <td>Mostly Positive</td>\n",
              "      <td>17847.0</td>\n",
              "      <td>Sports:Multiplayer:Soccer:eSports:Realistic:Lo...</td>\n",
              "    </tr>\n",
              "    <tr>\n",
              "      <th>69</th>\n",
              "      <td>1281930</td>\n",
              "      <td>tModLoader</td>\n",
              "      <td>12133</td>\n",
              "      <td>19069</td>\n",
              "      <td>16 May 2020</td>\n",
              "      <td>Overwhelmingly Positive</td>\n",
              "      <td>91358.0</td>\n",
              "      <td>Adventure:Action:Indie:RPG:Free to Play:Mod:Sa...</td>\n",
              "    </tr>\n",
              "    <tr>\n",
              "      <th>86</th>\n",
              "      <td>1468810</td>\n",
              "      <td>鬼谷八荒 Tale of Immortal</td>\n",
              "      <td>8682</td>\n",
              "      <td>30027</td>\n",
              "      <td>27 Jan 2021</td>\n",
              "      <td>Very Positive</td>\n",
              "      <td>102481.0</td>\n",
              "      <td>RPG:Adventure:Sandbox:Mythology:Exploration:St...</td>\n",
              "    </tr>\n",
              "  </tbody>\n",
              "</table>\n",
              "<p>100 rows × 8 columns</p>\n",
              "</div>"
            ],
            "text/plain": [
              "    Steam id                                   Game  Current players  \\\n",
              "53    251570                          7 Days to Die            17023   \n",
              "14    346110                  ARK: Survival Evolved            45564   \n",
              "57    813780  Age of Empires II: Definitive Edition            15041   \n",
              "20   1466860                      Age of Empires IV            37868   \n",
              "3    1172470                           Apex Legends           121313   \n",
              "..       ...                                    ...              ...   \n",
              "25    444200                   World of Tanks Blitz            31954   \n",
              "79    601510                   Yu-Gi-Oh! Duel Links             9524   \n",
              "78   1259970       eFootball PES 2021 SEASON UPDATE             9669   \n",
              "69   1281930                             tModLoader            12133   \n",
              "86   1468810                  鬼谷八荒 Tale of Immortal             8682   \n",
              "\n",
              "    Peak players today Release date           Review summary  Total reviews  \\\n",
              "53               23530  13 Dec 2013            Very Positive       130563.0   \n",
              "14               57966  27 Aug 2017            Very Positive       377192.0   \n",
              "57               20732  14 Nov 2019            Very Positive        80233.0   \n",
              "20               51869  28 Oct 2021            Very Positive         9709.0   \n",
              "3               245235   4 Nov 2020            Very Positive       338236.0   \n",
              "..                 ...          ...                      ...            ...   \n",
              "25               33709   9 Nov 2016            Very Positive        92260.0   \n",
              "79               10690  16 Nov 2017            Very Positive        33948.0   \n",
              "78               10094  15 Sep 2020          Mostly Positive        17847.0   \n",
              "69               19069  16 May 2020  Overwhelmingly Positive        91358.0   \n",
              "86               30027  27 Jan 2021            Very Positive       102481.0   \n",
              "\n",
              "                                                 Tags  \n",
              "53  Early Access:Survival:Zombies:Voxel:Open World...  \n",
              "14  Open World Survival Craft:Survival:Open World:...  \n",
              "57  Strategy:RTS:City Builder:Multiplayer:Base Bui...  \n",
              "20  Strategy:RTS:Multiplayer:Singleplayer:Medieval...  \n",
              "3   Free to Play:Battle Royale:Multiplayer:Shooter...  \n",
              "..                                                ...  \n",
              "25  Tanks:Free to Play:Action:Multiplayer:World Wa...  \n",
              "79  Free to Play:Card Game:Strategy:Anime:Multipla...  \n",
              "78  Sports:Multiplayer:Soccer:eSports:Realistic:Lo...  \n",
              "69  Adventure:Action:Indie:RPG:Free to Play:Mod:Sa...  \n",
              "86  RPG:Adventure:Sandbox:Mythology:Exploration:St...  \n",
              "\n",
              "[100 rows x 8 columns]"
            ]
          },
          "execution_count": 6,
          "metadata": {},
          "output_type": "execute_result"
        }
      ],
      "source": [
        "#sort group berdasarkan nama game dan current playersnya\n",
        "df.sort_values([\"Game\", \"Current players\"], ascending = [\"True\", \"False\"])"
      ]
    },
    {
      "cell_type": "code",
      "execution_count": 7,
      "metadata": {
        "colab": {
          "base_uri": "https://localhost:8080/"
        },
        "id": "hdYaQ6hnUeB6",
        "outputId": "59daac2a-555b-4b86-e9af-51ab98084a07"
      },
      "outputs": [
        {
          "name": "stdout",
          "output_type": "stream",
          "text": [
            "    Steam id            Game  Current players  Peak players today  \\\n",
            "99   1238810  Battlefield™ V             6724               33310   \n",
            "\n",
            "   Release date   Review summary  Total reviews  \\\n",
            "99  22 Oct 2020  Mostly Positive        68109.0   \n",
            "\n",
            "                                                 Tags  \n",
            "99  FPS:World War II:Shooter:Multiplayer:War:Singl...  \n"
          ]
        }
      ],
      "source": [
        "current_players_min = df[\"Current players\"].min() #Game dengan pemain paling sedikit\n",
        "print(df.loc[df[\"Current players\"]== current_players_min])\n"
      ]
    },
    {
      "cell_type": "code",
      "execution_count": 8,
      "metadata": {},
      "outputs": [
        {
          "name": "stdout",
          "output_type": "stream",
          "text": [
            "   Steam id                              Game  Current players  \\\n",
            "0       730  Counter-Strike: Global Offensive           736875   \n",
            "\n",
            "   Peak players today Release date Review summary  Total reviews  \\\n",
            "0              775266  21 Aug 2012  Very Positive      5993058.0   \n",
            "\n",
            "                                                Tags  \n",
            "0  FPS:Shooter:Multiplayer:Competitive:Action:Tea...  \n"
          ]
        }
      ],
      "source": [
        "current_players_max = df[\"Current players\"].max() #Game dengan pemain paling banyak\n",
        "print(df.loc[df[\"Current players\"]== current_players_max])\n"
      ]
    },
    {
      "cell_type": "code",
      "execution_count": 9,
      "metadata": {},
      "outputs": [
        {
          "data": {
            "text/html": [
              "<div>\n",
              "<style scoped>\n",
              "    .dataframe tbody tr th:only-of-type {\n",
              "        vertical-align: middle;\n",
              "    }\n",
              "\n",
              "    .dataframe tbody tr th {\n",
              "        vertical-align: top;\n",
              "    }\n",
              "\n",
              "    .dataframe thead th {\n",
              "        text-align: right;\n",
              "    }\n",
              "</style>\n",
              "<table border=\"1\" class=\"dataframe\">\n",
              "  <thead>\n",
              "    <tr style=\"text-align: right;\">\n",
              "      <th></th>\n",
              "      <th>Steam id</th>\n",
              "      <th>Game</th>\n",
              "      <th>Current players</th>\n",
              "      <th>Peak players today</th>\n",
              "      <th>Release date</th>\n",
              "      <th>Review summary</th>\n",
              "      <th>Total reviews</th>\n",
              "      <th>Tags</th>\n",
              "    </tr>\n",
              "  </thead>\n",
              "  <tbody>\n",
              "    <tr>\n",
              "      <th>0</th>\n",
              "      <td>730</td>\n",
              "      <td>Counter-Strike: Global Offensive</td>\n",
              "      <td>736875</td>\n",
              "      <td>775266</td>\n",
              "      <td>21 Aug 2012</td>\n",
              "      <td>Very Positive</td>\n",
              "      <td>5993058.0</td>\n",
              "      <td>FPS:Shooter:Multiplayer:Competitive:Action:Tea...</td>\n",
              "    </tr>\n",
              "    <tr>\n",
              "      <th>1</th>\n",
              "      <td>570</td>\n",
              "      <td>Dota 2</td>\n",
              "      <td>580933</td>\n",
              "      <td>649690</td>\n",
              "      <td>9 Jul 2013</td>\n",
              "      <td>Very Positive</td>\n",
              "      <td>1599180.0</td>\n",
              "      <td>Free to Play:MOBA:Multiplayer:Strategy:eSports...</td>\n",
              "    </tr>\n",
              "    <tr>\n",
              "      <th>2</th>\n",
              "      <td>1063730</td>\n",
              "      <td>New World</td>\n",
              "      <td>243815</td>\n",
              "      <td>307146</td>\n",
              "      <td>28 Sep 2021</td>\n",
              "      <td>Mostly Positive</td>\n",
              "      <td>145931.0</td>\n",
              "      <td>Massively Multiplayer:Open World:MMORPG:Advent...</td>\n",
              "    </tr>\n",
              "    <tr>\n",
              "      <th>3</th>\n",
              "      <td>1172470</td>\n",
              "      <td>Apex Legends</td>\n",
              "      <td>121313</td>\n",
              "      <td>245235</td>\n",
              "      <td>4 Nov 2020</td>\n",
              "      <td>Very Positive</td>\n",
              "      <td>338236.0</td>\n",
              "      <td>Free to Play:Battle Royale:Multiplayer:Shooter...</td>\n",
              "    </tr>\n",
              "    <tr>\n",
              "      <th>4</th>\n",
              "      <td>440</td>\n",
              "      <td>Team Fortress 2</td>\n",
              "      <td>104477</td>\n",
              "      <td>111884</td>\n",
              "      <td>10 Oct 2007</td>\n",
              "      <td>Very Positive</td>\n",
              "      <td>821568.0</td>\n",
              "      <td>Free to Play:Hero Shooter:Multiplayer:FPS:Shoo...</td>\n",
              "    </tr>\n",
              "    <tr>\n",
              "      <th>5</th>\n",
              "      <td>578080</td>\n",
              "      <td>PUBG: BATTLEGROUNDS</td>\n",
              "      <td>103354</td>\n",
              "      <td>293759</td>\n",
              "      <td>21 Dec 2017</td>\n",
              "      <td>Mixed</td>\n",
              "      <td>1530629.0</td>\n",
              "      <td>Survival:Shooter:Multiplayer:Battle Royale:FPS...</td>\n",
              "    </tr>\n",
              "    <tr>\n",
              "      <th>6</th>\n",
              "      <td>252490</td>\n",
              "      <td>Rust</td>\n",
              "      <td>86156</td>\n",
              "      <td>110489</td>\n",
              "      <td>8 Feb 2018</td>\n",
              "      <td>Very Positive</td>\n",
              "      <td>554535.0</td>\n",
              "      <td>Survival:Crafting:Multiplayer:Open World:Open ...</td>\n",
              "    </tr>\n",
              "    <tr>\n",
              "      <th>7</th>\n",
              "      <td>1623660</td>\n",
              "      <td>MIR4</td>\n",
              "      <td>82361</td>\n",
              "      <td>91872</td>\n",
              "      <td>25 Aug 2021</td>\n",
              "      <td>Mixed</td>\n",
              "      <td>5344.0</td>\n",
              "      <td>PvE:PvP:Demons:MMORPG:Martial Arts:RPG:Action ...</td>\n",
              "    </tr>\n",
              "    <tr>\n",
              "      <th>8</th>\n",
              "      <td>271590</td>\n",
              "      <td>Grand Theft Auto V</td>\n",
              "      <td>82189</td>\n",
              "      <td>102182</td>\n",
              "      <td>13 Apr 2015</td>\n",
              "      <td>Very Positive</td>\n",
              "      <td>1102837.0</td>\n",
              "      <td>Open World:Action:Multiplayer:Automobile Sim:C...</td>\n",
              "    </tr>\n",
              "    <tr>\n",
              "      <th>9</th>\n",
              "      <td>238960</td>\n",
              "      <td>Path of Exile</td>\n",
              "      <td>56781</td>\n",
              "      <td>66571</td>\n",
              "      <td>23 Oct 2013</td>\n",
              "      <td>Very Positive</td>\n",
              "      <td>172981.0</td>\n",
              "      <td>Free to Play:Action RPG:Hack and Slash:RPG:Mul...</td>\n",
              "    </tr>\n",
              "  </tbody>\n",
              "</table>\n",
              "</div>"
            ],
            "text/plain": [
              "   Steam id                              Game  Current players  \\\n",
              "0       730  Counter-Strike: Global Offensive           736875   \n",
              "1       570                            Dota 2           580933   \n",
              "2   1063730                         New World           243815   \n",
              "3   1172470                      Apex Legends           121313   \n",
              "4       440                   Team Fortress 2           104477   \n",
              "5    578080               PUBG: BATTLEGROUNDS           103354   \n",
              "6    252490                              Rust            86156   \n",
              "7   1623660                              MIR4            82361   \n",
              "8    271590                Grand Theft Auto V            82189   \n",
              "9    238960                     Path of Exile            56781   \n",
              "\n",
              "   Peak players today Release date   Review summary  Total reviews  \\\n",
              "0              775266  21 Aug 2012    Very Positive      5993058.0   \n",
              "1              649690   9 Jul 2013    Very Positive      1599180.0   \n",
              "2              307146  28 Sep 2021  Mostly Positive       145931.0   \n",
              "3              245235   4 Nov 2020    Very Positive       338236.0   \n",
              "4              111884  10 Oct 2007    Very Positive       821568.0   \n",
              "5              293759  21 Dec 2017            Mixed      1530629.0   \n",
              "6              110489   8 Feb 2018    Very Positive       554535.0   \n",
              "7               91872  25 Aug 2021            Mixed         5344.0   \n",
              "8              102182  13 Apr 2015    Very Positive      1102837.0   \n",
              "9               66571  23 Oct 2013    Very Positive       172981.0   \n",
              "\n",
              "                                                Tags  \n",
              "0  FPS:Shooter:Multiplayer:Competitive:Action:Tea...  \n",
              "1  Free to Play:MOBA:Multiplayer:Strategy:eSports...  \n",
              "2  Massively Multiplayer:Open World:MMORPG:Advent...  \n",
              "3  Free to Play:Battle Royale:Multiplayer:Shooter...  \n",
              "4  Free to Play:Hero Shooter:Multiplayer:FPS:Shoo...  \n",
              "5  Survival:Shooter:Multiplayer:Battle Royale:FPS...  \n",
              "6  Survival:Crafting:Multiplayer:Open World:Open ...  \n",
              "7  PvE:PvP:Demons:MMORPG:Martial Arts:RPG:Action ...  \n",
              "8  Open World:Action:Multiplayer:Automobile Sim:C...  \n",
              "9  Free to Play:Action RPG:Hack and Slash:RPG:Mul...  "
            ]
          },
          "execution_count": 9,
          "metadata": {},
          "output_type": "execute_result"
        }
      ],
      "source": [
        "#TOP 10 Games berdasarkan current players\n",
        "sort_players = df.sort_values([\"Current players\"], ascending = [False])\n",
        "sort_players.loc[0:9] #ambil data 1 s.d. 10"
      ]
    },
    {
      "cell_type": "code",
      "execution_count": 10,
      "metadata": {},
      "outputs": [
        {
          "data": {
            "text/plain": [
              "0.8478876941579045"
            ]
          },
          "execution_count": 10,
          "metadata": {},
          "output_type": "execute_result"
        }
      ],
      "source": [
        "df[\"Current players\"].corr(df[\"Total reviews\"])"
      ]
    },
    {
      "cell_type": "code",
      "execution_count": 11,
      "metadata": {
        "colab": {
          "base_uri": "https://localhost:8080/"
        },
        "id": "eyYIdgL_YvCx",
        "outputId": "e0d3da0c-7d53-4980-abf1-5b52662a6df3"
      },
      "outputs": [
        {
          "data": {
            "text/plain": [
              "0.9775687581213371"
            ]
          },
          "execution_count": 11,
          "metadata": {},
          "output_type": "execute_result"
        }
      ],
      "source": [
        "df[\"Current players\"].corr(df[\"Peak players today\"])"
      ]
    },
    {
      "cell_type": "markdown",
      "metadata": {
        "id": "_7u9kLeSWIeI"
      },
      "source": [
        "## Statistik Dataset"
      ]
    },
    {
      "cell_type": "markdown",
      "metadata": {
        "id": "E2C_WVddZqjo"
      },
      "source": [
        "### Statistik Current Players"
      ]
    },
    {
      "cell_type": "code",
      "execution_count": 13,
      "metadata": {
        "colab": {
          "base_uri": "https://localhost:8080/"
        },
        "id": "FwE_NiXBadIJ",
        "outputId": "893fa640-8a67-4bb6-8ee6-99a23d3a3202"
      },
      "outputs": [
        {
          "data": {
            "text/plain": [
              "count       100.000000\n",
              "mean      39954.370000\n",
              "std       94808.092861\n",
              "min        6724.000000\n",
              "25%       10018.500000\n",
              "50%       18012.000000\n",
              "75%       32333.500000\n",
              "max      736875.000000\n",
              "Name: Current players, dtype: float64"
            ]
          },
          "execution_count": 13,
          "metadata": {},
          "output_type": "execute_result"
        }
      ],
      "source": [
        "df[\"Current players\"].describe() #Mendeskripsikan data berupa rata-rata, standar deviasi, data ekstremum (max dan min), dan persentil"
      ]
    },
    {
      "cell_type": "code",
      "execution_count": 14,
      "metadata": {
        "colab": {
          "base_uri": "https://localhost:8080/"
        },
        "id": "gNZkEKSbasDO",
        "outputId": "db61bd0a-3332-4b3a-8cf6-54a281585eff"
      },
      "outputs": [
        {
          "data": {
            "text/plain": [
              "8239.8"
            ]
          },
          "execution_count": 14,
          "metadata": {},
          "output_type": "execute_result"
        }
      ],
      "source": [
        "df[\"Current players\"].quantile(0.1) #Persentil 10%"
      ]
    },
    {
      "cell_type": "code",
      "execution_count": 15,
      "metadata": {
        "colab": {
          "base_uri": "https://localhost:8080/"
        },
        "id": "bVNs0fVqa6xn",
        "outputId": "7cf920fb-8ebd-437f-a0ba-bd99b9a0a3f2"
      },
      "outputs": [
        {
          "data": {
            "text/plain": [
              "55296.900000000016"
            ]
          },
          "execution_count": 15,
          "metadata": {},
          "output_type": "execute_result"
        }
      ],
      "source": [
        "df[\"Current players\"].quantile(0.9) #Persentil 90%"
      ]
    },
    {
      "cell_type": "markdown",
      "metadata": {
        "id": "7X5i6sQIcHnX"
      },
      "source": [
        "### Statistik Peak Players Today"
      ]
    },
    {
      "cell_type": "code",
      "execution_count": 16,
      "metadata": {},
      "outputs": [
        {
          "data": {
            "text/plain": [
              "count       100.000000\n",
              "mean      52364.190000\n",
              "std      106888.744819\n",
              "min        8707.000000\n",
              "25%       15032.750000\n",
              "50%       24493.000000\n",
              "75%       43076.000000\n",
              "max      775266.000000\n",
              "Name: Peak players today, dtype: float64"
            ]
          },
          "execution_count": 16,
          "metadata": {},
          "output_type": "execute_result"
        }
      ],
      "source": [
        "df[\"Peak players today\"].describe()"
      ]
    },
    {
      "cell_type": "code",
      "execution_count": 17,
      "metadata": {},
      "outputs": [
        {
          "data": {
            "text/plain": [
              "10678.2"
            ]
          },
          "execution_count": 17,
          "metadata": {},
          "output_type": "execute_result"
        }
      ],
      "source": [
        "df[\"Peak players today\"].quantile(0.1)"
      ]
    },
    {
      "cell_type": "code",
      "execution_count": 18,
      "metadata": {},
      "outputs": [
        {
          "data": {
            "text/plain": [
              "71377.60000000011"
            ]
          },
          "execution_count": 18,
          "metadata": {},
          "output_type": "execute_result"
        }
      ],
      "source": [
        "df[\"Peak players today\"].quantile(0.9)"
      ]
    },
    {
      "cell_type": "markdown",
      "metadata": {
        "id": "X86HOC1kcMpf"
      },
      "source": [
        "### Statistik Total Reviews"
      ]
    },
    {
      "cell_type": "code",
      "execution_count": 19,
      "metadata": {},
      "outputs": [
        {
          "data": {
            "text/plain": [
              "count    9.900000e+01\n",
              "mean     2.696220e+05\n",
              "std      6.447539e+05\n",
              "min      1.433000e+03\n",
              "25%      4.859350e+04\n",
              "50%      1.111630e+05\n",
              "75%      2.747050e+05\n",
              "max      5.993058e+06\n",
              "Name: Total reviews, dtype: float64"
            ]
          },
          "execution_count": 19,
          "metadata": {},
          "output_type": "execute_result"
        }
      ],
      "source": [
        "df[\"Total reviews\"].describe()"
      ]
    },
    {
      "cell_type": "code",
      "execution_count": 20,
      "metadata": {},
      "outputs": [
        {
          "data": {
            "text/plain": [
              "15107.000000000002"
            ]
          },
          "execution_count": 20,
          "metadata": {},
          "output_type": "execute_result"
        }
      ],
      "source": [
        "df[\"Total reviews\"].quantile(0.1)"
      ]
    },
    {
      "cell_type": "code",
      "execution_count": 21,
      "metadata": {},
      "outputs": [
        {
          "data": {
            "text/plain": [
              "466846.4000000002"
            ]
          },
          "execution_count": 21,
          "metadata": {},
          "output_type": "execute_result"
        }
      ],
      "source": [
        "df[\"Total reviews\"].quantile(0.9)"
      ]
    },
    {
      "cell_type": "markdown",
      "metadata": {
        "id": "LMYACGj0cPcf"
      },
      "source": [
        "### Statistik Review Summary"
      ]
    },
    {
      "cell_type": "code",
      "execution_count": 22,
      "metadata": {
        "colab": {
          "base_uri": "https://localhost:8080/"
        },
        "id": "iSNfeqcncX3v",
        "outputId": "971d9b27-e1da-4f38-fd3a-c08577968236"
      },
      "outputs": [
        {
          "data": {
            "text/plain": [
              "Very Positive              58\n",
              "Overwhelmingly Positive    25\n",
              "Mostly Positive            12\n",
              "Mixed                       4\n",
              "Name: Review summary, dtype: int64"
            ]
          },
          "execution_count": 22,
          "metadata": {},
          "output_type": "execute_result"
        }
      ],
      "source": [
        "df[\"Review summary\"].value_counts() #Buat tabel frekuensi review summary"
      ]
    }
  ],
  "metadata": {
    "colab": {
      "name": "Tubes 2.ipynb",
      "provenance": []
    },
    "kernelspec": {
      "display_name": "Python 3",
      "name": "python3"
    },
    "language_info": {
      "codemirror_mode": {
        "name": "ipython",
        "version": 3
      },
      "file_extension": ".py",
      "mimetype": "text/x-python",
      "name": "python",
      "nbconvert_exporter": "python",
      "pygments_lexer": "ipython3",
      "version": "3.9.6"
    }
  },
  "nbformat": 4,
  "nbformat_minor": 0
}
